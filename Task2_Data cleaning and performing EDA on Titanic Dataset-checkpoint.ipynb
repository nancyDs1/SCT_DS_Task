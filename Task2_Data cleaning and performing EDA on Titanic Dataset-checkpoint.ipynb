{
 "cells": [
  {
   "cell_type": "code",
   "execution_count": null,
   "id": "6fb3b2c1-25e1-4fe7-87a6-ab93f764cba7",
   "metadata": {},
   "outputs": [],
   "source": [
    "# Import a libraries\n",
    "\n",
    "import pandas as pd\n",
    "import numpy as np\n",
    "import matplotlib.pyplot as plt\n",
    "import seaborn as sns\n",
    "import plotly.express as px\n"
   ]
  },
  {
   "cell_type": "code",
   "execution_count": null,
   "id": "9e53d8dd-2613-464c-940c-d6efed1a83e2",
   "metadata": {},
   "outputs": [],
   "source": [
    "# Load a dataset\n",
    "\n",
    "data = pd.read_csv(\"tested.csv\")\n",
    "data"
   ]
  },
  {
   "cell_type": "code",
   "execution_count": null,
   "id": "0f170e90-d474-44a7-8490-5199f6efc40e",
   "metadata": {},
   "outputs": [],
   "source": [
    "# Find a null values\n",
    "\n",
    "null_val = data.isnull().sum()\n",
    "null_val"
   ]
  },
  {
   "cell_type": "code",
   "execution_count": null,
   "id": "523ac7cc-5519-4a9a-a11f-8be1f2760c28",
   "metadata": {},
   "outputs": [],
   "source": [
    "# fill the null value with zero\n",
    "\n",
    "fill = data.fillna(0, inplace = True)\n",
    "fill"
   ]
  },
  {
   "cell_type": "code",
   "execution_count": null,
   "id": "8bf4b961-8b9c-4fc6-9302-0eefd4899e4d",
   "metadata": {},
   "outputs": [],
   "source": [
    "# Basic information of data\n",
    "\n",
    "data.describe()"
   ]
  },
  {
   "cell_type": "code",
   "execution_count": null,
   "id": "7f081ac3-649a-4006-8a16-2c5962194672",
   "metadata": {},
   "outputs": [],
   "source": [
    "# Analysis on Survived by age\n",
    "\n",
    "plt.figure(figsize=(10,4))\n",
    "sns.lineplot(x = data[\"Age\"],y = data[\"Survived\"],data = data,color = \"red\",linewidth = 2)\n",
    "plt.xlabel(\"Age\")\n",
    "plt.ylabel(\"Survived\")\n",
    "plt.title(\"Survival Rate by Age\")\n",
    "plt.show()\n"
   ]
  },
  {
   "cell_type": "code",
   "execution_count": null,
   "id": "28559a01-969a-4f09-9dd8-76b721dca64f",
   "metadata": {},
   "outputs": [],
   "source": [
    "# analysis of survied by gender\n",
    "\n",
    "survived_counts = data.groupby([\"Survived\", \"Sex\"]).size().reset_index(name = \"Count of person\")\n",
    "\n",
    "plt.figure(figsize= (10,4))\n",
    "sns.barplot(data = survived_counts, x = \"Survived\" ,y = \"Count of person\" , hue = \"Sex\",palette = [\"y\",\"pink\"])\n",
    "plt.xlabel(\"Survival Rate\")\n",
    "plt.ylabel(\"Count of person\")\n",
    "plt.title(\"Survival Rate by Gender\")\n",
    "plt.show()\n"
   ]
  },
  {
   "cell_type": "code",
   "execution_count": null,
   "id": "f585b1d4-e16d-4e95-8d3c-c07488d52f64",
   "metadata": {},
   "outputs": [],
   "source": [
    "# analysis of survied by Age\n",
    "\n",
    "survived_counts = data.groupby([\"Age\", \"Sex\"]).size().reset_index(name = \"count\")\n",
    "\n",
    "plt.figure(figsize= (10,5))\n",
    "sns.lineplot(data = survived_counts, x = \"Age\" ,y = \"count\" , hue = \"Sex\")\n",
    "plt.xlabel(\"Age\")\n",
    "plt.ylabel(\"Count\")\n",
    "plt.title(\"Survival Rate by Gender according to Age\")\n",
    "plt.show()\n"
   ]
  },
  {
   "cell_type": "code",
   "execution_count": null,
   "id": "e6b9f37c-6879-4d34-a9bf-5ff94c690d11",
   "metadata": {},
   "outputs": [],
   "source": [
    "# Calculate survival rate based on SibSp\n",
    "sibsp_survival = data.groupby(\"SibSp\")[\"Survived\"].mean().reset_index()\n",
    "\n",
    "# Plot survival rate by SibSp\n",
    "plt.figure(figsize=(8, 5))\n",
    "sns.barplot(data=sibsp_survival, x=\"SibSp\", y=\"Survived\", palette=\"coolwarm\")\n",
    "plt.xlabel(\"Number of Siblings/Spouses Aboard\")\n",
    "plt.ylabel(\"Survival Rate\")\n",
    "plt.title(\"Survival Rate by Number of Siblings/Spouses\")\n",
    "plt.show()\n"
   ]
  },
  {
   "cell_type": "code",
   "execution_count": null,
   "id": "03bc359a-df24-4c2c-b7ad-679059906185",
   "metadata": {},
   "outputs": [],
   "source": [
    "# Calculate survival rate based on Parch\n",
    "parch_survival = data.groupby(\"Parch\")[\"Survived\"].mean().reset_index()\n",
    "\n",
    "# Plot survival rate by Parch\n",
    "plt.figure(figsize=(8, 5))\n",
    "sns.barplot(data=parch_survival, x=\"Parch\", y=\"Survived\", palette=\"viridis\")\n",
    "plt.xlabel(\"Number of Parents/Children Aboard\")\n",
    "plt.ylabel(\"Survival Rate\")\n",
    "plt.title(\"Survival Rate by Number of Parents/Children\")\n",
    "plt.show()\n"
   ]
  },
  {
   "cell_type": "code",
   "execution_count": null,
   "id": "718eda19-b491-4f95-9f80-47187486fae5",
   "metadata": {},
   "outputs": [],
   "source": [
    "# Create a Family Size column\n",
    "data[\"family_size\"] = data[\"SibSp\"] + data[\"Parch\"] + 1  # +1 to include the passenger\n",
    "\n",
    "# Survival rate based on family size\n",
    "family_survival = data.groupby(\"family_size\")[\"Survived\"].mean().reset_index()\n",
    "\n",
    "# Plot survival rate by Family Size\n",
    "plt.figure(figsize=(8, 5))\n",
    "sns.lineplot(data=family_survival, x=\"family_size\", y=\"Survived\", marker=\"o\", color=\"red\")\n",
    "plt.xlabel(\"Family Size\")\n",
    "plt.ylabel(\"Survival Rate\")\n",
    "plt.title(\"Survival Rate by Family Size\")\n",
    "plt.xticks(range(1, data[\"family_size\"].max() + 1))\n",
    "plt.show()\n"
   ]
  },
  {
   "cell_type": "code",
   "execution_count": null,
   "id": "31ff4fa9-44ab-4118-88b2-c42a8a485efa",
   "metadata": {},
   "outputs": [],
   "source": [
    "corelation = data.drop(columns = [\"PassengerId\",\"Name\",\"Ticket\",\"Fare\",\"Cabin\",\"Embarked\"])\n",
    "\n",
    "dummies = pd.get_dummies(corelation, columns= [\"Sex\"],drop_first = True)\n",
    "# data[\"Gender\"] = data[\"Sex\"].map({\"male\" : 0,\"female\": 1})\n",
    "\n",
    "dummies.corr()"
   ]
  },
  {
   "cell_type": "code",
   "execution_count": null,
   "id": "9cf0d10a-0f6d-46a2-ab49-f5b2aaffe1d0",
   "metadata": {},
   "outputs": [],
   "source": [
    "plt.figure(figsize = (8,5))\n",
    "sns.heatmap(data = dummies.corr(),annot = True,cmap = \"PiYG\", linewidth = 0.5)\n",
    "plt.title(\"Corelation matrix of titanic data\")\n",
    "plt.show()"
   ]
  }
 ],
 "metadata": {
  "kernelspec": {
   "display_name": "Python 3 (ipykernel)",
   "language": "python",
   "name": "python3"
  },
  "language_info": {
   "codemirror_mode": {
    "name": "ipython",
    "version": 3
   },
   "file_extension": ".py",
   "mimetype": "text/x-python",
   "name": "python",
   "nbconvert_exporter": "python",
   "pygments_lexer": "ipython3",
   "version": "3.11.7"
  }
 },
 "nbformat": 4,
 "nbformat_minor": 5
}
