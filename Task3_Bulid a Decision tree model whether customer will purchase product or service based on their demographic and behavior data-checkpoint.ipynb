{
 "cells": [
  {
   "cell_type": "code",
   "execution_count": null,
   "id": "64b87c29-7310-4b79-8248-4659636929a0",
   "metadata": {},
   "outputs": [],
   "source": [
    "## Dataset Attributes\n",
    "## Here is the description of all the variables:\n",
    "\n",
    "##### Variable: Definition\n",
    "##### ID: Unique client ID\n",
    "##### age: Age of the client\n",
    "##### job: Type of job\n",
    "##### marital: Marital status of the client\n",
    "##### education: Education level\n",
    "##### default: Credit in default.\n",
    "##### housing: Housing loan\n",
    "##### loan: Personal loan\n",
    "##### contact: Type of communication\n",
    "##### month: Contact month\n",
    "##### day_of_week: Day of week of contact\n",
    "##### duration: Contact duration\n",
    "##### campaign: number of contacts performed during this campaign to the client\n",
    "##### pdays: number of days that passed by after the client was last contacted\n",
    "##### previous: number of contacts performed before this campaign\n",
    "##### poutcome: outcome of the previous marketing campaign\n",
    "##### Output variable (desired target):\n",
    "##### Subscribed (target): has the client subscribed a term deposit? (YES/NO)"
   ]
  },
  {
   "cell_type": "code",
   "execution_count": null,
   "id": "0101b13e-9303-40f0-8380-bccd2d395c59",
   "metadata": {},
   "outputs": [],
   "source": [
    "# Import Library \n",
    "\n",
    "import pandas as pd\n",
    "import numpy as np\n",
    "from sklearn.preprocessing import LabelEncoder\n",
    "from sklearn.model_selection import train_test_split\n",
    "from sklearn.tree import DecisionTreeClassifier\n",
    "from sklearn.metrics import accuracy_score, classification_report\n",
    "import matplotlib.pyplot as plt"
   ]
  },
  {
   "cell_type": "code",
   "execution_count": null,
   "id": "047fcda5-299f-441d-b24c-00d7caed0a48",
   "metadata": {},
   "outputs": [],
   "source": [
    "# load a data\n",
    "\n",
    "data = pd.read_csv(\"bank.csv\")\n",
    "data"
   ]
  },
  {
   "cell_type": "code",
   "execution_count": null,
   "id": "2490d6f0-5da7-4445-b362-6f204dc92364",
   "metadata": {},
   "outputs": [],
   "source": [
    "## handle missing value\n",
    "\n",
    "data.isnull().sum()"
   ]
  },
  {
   "cell_type": "code",
   "execution_count": null,
   "id": "4d883797-8dd2-48a4-aeaa-df076f3c293f",
   "metadata": {},
   "outputs": [],
   "source": [
    "# label encoding for data\n",
    "\n",
    "df = data\n",
    "\n",
    "# initialize a function\n",
    "label_en = LabelEncoder()\n",
    "\n",
    "# find a categorical columns from the dataset\n",
    "\n",
    "category = df.select_dtypes(include = [\"object\"]).columns\n",
    "\n",
    "# create a empty dictionary to label mapping store\n",
    "\n",
    "label_mapping = {}\n",
    "\n",
    "# apply label encoding to each columns\n",
    "\n",
    "for col in category:\n",
    "    df[col] = label_en.fit_transform(df[col].fillna(\"Missing\"))\n",
    "    label_mapping[col] = dict(zip(label_en.classes_, label_en.transform(label_en.classes_)))\n",
    "\n",
    "# show label mapping\n",
    "for column, mapping in label_mapping.items():\n",
    "    print(f\"\\n{column}, : , {mapping}\")"
   ]
  },
  {
   "cell_type": "code",
   "execution_count": null,
   "id": "03349c5a-00c2-4e0d-a40d-7929b16f7421",
   "metadata": {},
   "outputs": [],
   "source": [
    "# build a model for jobs, marital status,education\n",
    "\n",
    "model1 = df[[\"marital\",\"education\",\"job\"]]\n",
    "model1"
   ]
  },
  {
   "cell_type": "code",
   "execution_count": null,
   "id": "11e24384-8da4-4f23-be81-a97ab799cc38",
   "metadata": {},
   "outputs": [],
   "source": [
    "# train a data \n",
    "\n",
    "X = model1\n",
    "Y = df[\"y\"]\n",
    "\n",
    "# turn data in train test\n",
    "X_train,X_test,Y_train,Y_test = train_test_split(X,Y,test_size = 0.2,random_state = 42)\n",
    "\n",
    "# define a model\n",
    "\n",
    "clf = DecisionTreeClassifier(max_depth= 5,random_state = 42)\n",
    "\n",
    "#fit the data into model\n",
    "\n",
    "clf.fit(X_train,Y_train)"
   ]
  },
  {
   "cell_type": "code",
   "execution_count": null,
   "id": "95d8da6b-3682-4eee-9581-8b25d23fc821",
   "metadata": {},
   "outputs": [],
   "source": [
    "# prediction\n",
    "\n",
    "y_pred = clf.predict(X_test)\n",
    "\n",
    "# Accuracy\n",
    "accuracy = accuracy_score(Y_test,y_pred)\n",
    "print(f\"Test accuracy of Decision tree model is : {accuracy}\")\n",
    "\n",
    "# Classification score\n",
    "print(\"\\nClassification score : \\n\",classification_report(Y_test,y_pred))"
   ]
  },
  {
   "cell_type": "code",
   "execution_count": null,
   "id": "ef0e772d-2cb6-496a-b2fa-19ac2fc71121",
   "metadata": {},
   "outputs": [],
   "source": [
    "# confusion matrix\n",
    "from sklearn.metrics import confusion_matrix\n",
    "import seaborn as sns\n",
    "\n",
    "plt.figure(figsize = (4,2))\n",
    "sns.heatmap(confusion_matrix(Y_test,y_pred),annot = True,fmt = 'd')\n",
    "plt.title(\"Confusion matrix\")\n",
    "plt.show()"
   ]
  },
  {
   "cell_type": "code",
   "execution_count": null,
   "id": "aea36d69-702a-4f4f-8b7d-b910b7b975d2",
   "metadata": {},
   "outputs": [],
   "source": [
    "model2 = df[[\"housing\",\"loan\"]]\n",
    "model2"
   ]
  },
  {
   "cell_type": "code",
   "execution_count": null,
   "id": "c66b0e09-fbe9-46ad-9352-782c855df836",
   "metadata": {},
   "outputs": [],
   "source": [
    "# train a data \n",
    "\n",
    "X = model2\n",
    "Y = df[\"y\"]\n",
    "\n",
    "# turn data in train test\n",
    "X_train,X_test,Y_train,Y_test = train_test_split(X,Y,test_size = 0.2,random_state = 42)\n",
    "\n",
    "# define a model\n",
    "\n",
    "clf = DecisionTreeClassifier(max_depth= 5,random_state = 42)\n",
    "\n",
    "#fit the data into model\n",
    "\n",
    "clf.fit(X_train,Y_train)"
   ]
  },
  {
   "cell_type": "code",
   "execution_count": null,
   "id": "b002f91f-2b29-4cd7-bc7f-106a819ce109",
   "metadata": {},
   "outputs": [],
   "source": [
    "# prediction\n",
    "\n",
    "y_pred = clf.predict(X_test)\n",
    "\n",
    "# Accuracy\n",
    "accuracy = accuracy_score(Y_test,y_pred)\n",
    "print(f\"Test accuracy of Decision tree model is : {accuracy}\")\n",
    "\n",
    "# Classification score\n",
    "print(\"\\nClassification score : \\n\",classification_report(Y_test,y_pred))"
   ]
  },
  {
   "cell_type": "code",
   "execution_count": null,
   "id": "b16457a1-757f-453b-8500-73173168c350",
   "metadata": {},
   "outputs": [],
   "source": [
    "# confusion matrix\n",
    "from sklearn.metrics import confusion_matrix\n",
    "import seaborn as sns\n",
    "\n",
    "plt.figure(figsize = (4,2))\n",
    "sns.heatmap(confusion_matrix(Y_test,y_pred),annot = True,fmt = 'd')\n",
    "plt.title(\"Confusion matrix\")\n",
    "plt.show()"
   ]
  },
  {
   "cell_type": "code",
   "execution_count": null,
   "id": "248e2b3e-371d-4cc7-8bab-8481dafc0774",
   "metadata": {},
   "outputs": [],
   "source": [
    "# final_model\n",
    "\n",
    "final_model = df.drop(columns = [\"y\",\"day\",\"month\",\"default\",\"contact\",\"duration\",\"campaign\",\"pdays\",\"previous\",\"poutcome\"])\n",
    "final_model"
   ]
  },
  {
   "cell_type": "code",
   "execution_count": null,
   "id": "56cfd584-692a-462f-ab62-c9b7c7940b74",
   "metadata": {},
   "outputs": [],
   "source": [
    "# train a data \n",
    "\n",
    "X1 = final_model\n",
    "Y1 = df[\"y\"]\n",
    "\n",
    "# turn data in train test\n",
    "X_train,X_test,Y_train,Y_test = train_test_split(X1,Y1,test_size = 0.2,random_state = 42)\n",
    "\n",
    "# define a model\n",
    "\n",
    "clff = DecisionTreeClassifier(max_depth= 2,random_state = 50)\n",
    "\n",
    "#fit the data into model\n",
    "\n",
    "clff.fit(X_train,Y_train)"
   ]
  },
  {
   "cell_type": "code",
   "execution_count": null,
   "id": "3ee60219-0055-470b-909f-7dc2df318971",
   "metadata": {},
   "outputs": [],
   "source": [
    "# prediction\n",
    "\n",
    "y_pred = clff.predict(X_test)\n",
    "\n",
    "# Accuracy\n",
    "accuracy = accuracy_score(Y_test,y_pred)\n",
    "print(f\"Test accuracy of Decision tree model is : {accuracy}\")\n",
    "\n",
    "# Classification score\n",
    "print(\"\\nClassification score : \\n\",classification_report(Y_test,y_pred))"
   ]
  },
  {
   "cell_type": "code",
   "execution_count": null,
   "id": "e393ba95-b87c-48c9-a09f-ed961c8a7179",
   "metadata": {},
   "outputs": [],
   "source": [
    "# confusion matrix\n",
    "from sklearn.metrics import confusion_matrix\n",
    "import seaborn as sns\n",
    "\n",
    "plt.figure(figsize = (4,2))\n",
    "sns.heatmap(confusion_matrix(Y_test,y_pred),annot = True,fmt = 'd')\n",
    "plt.title(\"Confusion matrix\")\n",
    "plt.show()"
   ]
  },
  {
   "cell_type": "code",
   "execution_count": null,
   "id": "0a5a4ef0-b8f3-4c12-9dc7-2a6e45ccb43c",
   "metadata": {},
   "outputs": [],
   "source": [
    "import joblib"
   ]
  },
  {
   "cell_type": "code",
   "execution_count": null,
   "id": "ddeec298-ccb7-4d90-9432-2b540d220c54",
   "metadata": {},
   "outputs": [],
   "source": [
    "joblib.dump(clff,\"model_of_predicion_for_coustomer_service.pkl\")"
   ]
  },
  {
   "cell_type": "code",
   "execution_count": null,
   "id": "cc807f0d-b8a7-4b77-a58d-34a8b3560f3f",
   "metadata": {},
   "outputs": [],
   "source": [
    "import streamlit as st\n",
    "import pandas as pd\n",
    "import joblib\n",
    "\n",
    "# Load the trained model\n",
    "model = joblib.load(\"model_of_predicion_for_coustomer_service.pkl\")\n",
    "\n",
    "st.title(\"Predict the Chances of Customer Purchase Choice\")\n",
    "st.write(\"Enter the information for prediction\")\n",
    "\n",
    "# Encoding mappings (used in training)\n",
    "job_mapping = {'admin.': 0, 'blue-collar': 1, 'entrepreneur': 2, 'housemaid': 3, 'management': 4, \n",
    "               'retired': 5, 'self-employed': 6, 'services': 7, 'student': 8, 'technician': 9, \n",
    "               'unemployed': 10, 'unknown': 11}\n",
    "\n",
    "marital_mapping = {'divorced': 0, 'married': 1, 'single': 2}\n",
    "education_mapping = {'primary': 0, 'secondary': 1, 'tertiary': 2, 'unknown': 3}\n",
    "binary_mapping = {'no': 0, 'yes': 1}  # Used for default, housing, and loan\n",
    "\n",
    "# ✅ Create inputs\n",
    "Age = st.number_input(\"Enter Age\", min_value=18)\n",
    "\n",
    "Job = st.selectbox(\"Select Job Role\", list(job_mapping.keys()))  # Ensures dictionary keys match\n",
    "job_encoded = job_mapping[Job]  # No need for `.lower()`, keys already match\n",
    "\n",
    "Marital = st.selectbox(\"Select Marital Status\", list(marital_mapping.keys()))\n",
    "marital_encoded = marital_mapping[Marital.lower()]\n",
    "\n",
    "Education = st.selectbox(\"Select Education Level\", list(education_mapping.keys()))\n",
    "education_encoded = education_mapping[Education.lower()]\n",
    "\n",
    "Balance = st.number_input(\"Enter Balance\", min_value=-3313, max_value=71188, value=2)\n",
    "\n",
    "Housing_Loan = st.selectbox(\"Do you have a Housing Loan?\", ['Yes', 'No'])\n",
    "housing_encoded = binary_mapping[Housing_Loan.lower()]\n",
    "\n",
    "Loan = st.selectbox(\"Do you have a Personal Loan?\", ['Yes', 'No'])\n",
    "loan_encoded = binary_mapping[Loan.lower()]\n",
    "\n",
    "# Convert all inputs into a DataFrame\n",
    "input_data = pd.DataFrame([[Age, job_encoded, marital_encoded, education_encoded, Balance, housing_encoded, loan_encoded]],\n",
    "                          columns=['age', 'job', 'marital', 'education', 'balance', 'housing', 'loan'])\n",
    "\n",
    "# Make a prediction\n",
    "if st.button(\"Predict\"):\n",
    "    prediction = model.predict(input_data)  # Variable name fixed\n",
    "    result = \"Subscribed to Term Deposit\" if prediction[0] == 1 else \"Did Not Subscribe\"\n",
    "    st.write(f\"**Prediction:** {result}\")\n"
   ]
  },
  {
   "cell_type": "code",
   "execution_count": null,
   "id": "ad224659-bb42-445b-8478-f276df0bad4f",
   "metadata": {},
   "outputs": [],
   "source": []
  },
  {
   "cell_type": "code",
   "execution_count": null,
   "id": "b49d0fd6-7101-4063-8035-a2c080c1cc15",
   "metadata": {},
   "outputs": [],
   "source": []
  },
  {
   "cell_type": "code",
   "execution_count": null,
   "id": "15382381-8ce4-4252-89c5-12ebf9545bbd",
   "metadata": {},
   "outputs": [],
   "source": []
  }
 ],
 "metadata": {
  "kernelspec": {
   "display_name": "Python 3 (ipykernel)",
   "language": "python",
   "name": "python3"
  },
  "language_info": {
   "codemirror_mode": {
    "name": "ipython",
    "version": 3
   },
   "file_extension": ".py",
   "mimetype": "text/x-python",
   "name": "python",
   "nbconvert_exporter": "python",
   "pygments_lexer": "ipython3",
   "version": "3.11.7"
  }
 },
 "nbformat": 4,
 "nbformat_minor": 5
}
