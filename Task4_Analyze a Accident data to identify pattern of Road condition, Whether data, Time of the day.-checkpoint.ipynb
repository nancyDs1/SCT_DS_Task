{
 "cells": [
  {
   "cell_type": "code",
   "execution_count": null,
   "id": "66844203-0af9-4a9a-845f-49b75cf9c12c",
   "metadata": {},
   "outputs": [],
   "source": [
    "# import libraries\n",
    "\n",
    "import pandas as pd\n",
    "import numpy as np\n",
    "import matplotlib.pyplot as plt\n",
    "from sklearn.preprocessing import LabelEncoder"
   ]
  },
  {
   "cell_type": "code",
   "execution_count": null,
   "id": "f297b664-3bbc-4f66-aa60-3384989d37b9",
   "metadata": {},
   "outputs": [],
   "source": [
    "data = pd.read_csv(\"accidents_2017_to_2023_english.csv\")\n",
    "data"
   ]
  },
  {
   "cell_type": "code",
   "execution_count": null,
   "id": "c6f1210c-ac79-4c7a-89d5-ac66ef9c139f",
   "metadata": {},
   "outputs": [],
   "source": [
    "# drop the unneccesary column\n",
    "\n",
    "df = data.drop(columns= [\"week_day\",\"city\"])\n",
    "df"
   ]
  },
  {
   "cell_type": "code",
   "execution_count": null,
   "id": "3805a635-e663-4ce9-87b0-ac68eea03c69",
   "metadata": {},
   "outputs": [],
   "source": [
    "df.describe()"
   ]
  },
  {
   "cell_type": "code",
   "execution_count": null,
   "id": "bc873040-4f25-4f43-986f-3053c1096c6f",
   "metadata": {},
   "outputs": [],
   "source": [
    "df.isnull().sum()"
   ]
  },
  {
   "cell_type": "code",
   "execution_count": null,
   "id": "c272564b-6c4b-4447-9a17-b1bb1d3ae7f5",
   "metadata": {},
   "outputs": [],
   "source": [
    "df.duplicated().sum()"
   ]
  },
  {
   "cell_type": "code",
   "execution_count": null,
   "id": "97cccbcd-beb8-4812-b629-e688cd87c488",
   "metadata": {},
   "outputs": [],
   "source": [
    "# Total number of accidents\n",
    "total_accidents = df.shape[0]\n",
    "print(f\"Total Accidents: {total_accidents}\")\n",
    "\n",
    "# Total number of deaths\n",
    "total_deaths = df[\"deaths\"].sum()\n",
    "print(f\"Total Deaths: {total_deaths}\")\n",
    "\n",
    "# Total injured (slightly + severely)\n",
    "df[\"total_injured\"] = df[\"slightly_injured\"] + df[\"severely_injured\"]\n",
    "print(f\"Total Injured: {df['total_injured'].sum()}\")\n"
   ]
  },
  {
   "cell_type": "code",
   "execution_count": null,
   "id": "75d45d48-959d-4b3d-bb04-fa146ace5cf7",
   "metadata": {},
   "outputs": [],
   "source": [
    "# Group by location (latitude, longitude)\n",
    "accident_hotspots = df.groupby([\"latitude\", \"longitude\"]).size().reset_index(name=\"accident_count\")\n",
    "\n",
    "# Sort by highest accident count\n",
    "top_hotspots = accident_hotspots.sort_values(\"accident_count\", ascending=False).head(10)\n",
    "print(top_hotspots)\n"
   ]
  },
  {
   "cell_type": "code",
   "execution_count": null,
   "id": "a3dc9316-29fa-47b9-b484-0d9cd970c794",
   "metadata": {},
   "outputs": [],
   "source": [
    "import seaborn as sns\n",
    "import matplotlib.pyplot as plt\n",
    "\n",
    "# Scatter plot: Vehicles vs. Injuries\n",
    "plt.figure(figsize=(8, 5))\n",
    "sns.scatterplot(x=df[\"vehicles_involved\"], y=df[\"total_injured\"])\n",
    "plt.xlabel(\"Vehicles Involved\")\n",
    "plt.ylabel(\"Total Injured\")\n",
    "plt.title(\"Impact of Vehicles on Injuries\")\n",
    "plt.show()\n"
   ]
  },
  {
   "cell_type": "code",
   "execution_count": null,
   "id": "936eb3d3-bfc4-4856-8e70-9a9a0a18bfce",
   "metadata": {},
   "outputs": [],
   "source": [
    "# Convert timestamp to datetime (if exists)\n",
    "df[\"inverse_data\"] = pd.to_datetime(df[\"inverse_data\"])\n",
    "\n",
    "# Extract month and weekday\n",
    "df[\"month\"] = df[\"inverse_data\"].dt.month\n",
    "df[\"weekday\"] = df[\"inverse_data\"].dt.day_name()\n",
    "\n",
    "# Accidents per month\n",
    "monthly_accidents = df.groupby(\"month\").size()\n",
    "monthly_accidents.plot(kind=\"bar\", title=\"Accidents per Month\", figsize=(8, 5))\n"
   ]
  },
  {
   "cell_type": "code",
   "execution_count": null,
   "id": "5dd2af86-3d03-46f4-ae1f-b1f102a93ff8",
   "metadata": {},
   "outputs": [],
   "source": [
    "# Define severity levels\n",
    "def classify_severity(row):\n",
    "    if row['deaths'] > 0:\n",
    "        return \"Fatal\"\n",
    "    elif row['severely_injured'] > 0:\n",
    "        return \"Severe\"\n",
    "    elif row['slightly_injured'] > 0:\n",
    "        return \"Minor\"\n",
    "    else:\n",
    "        return \"No Injury\"\n",
    "\n",
    "# Apply classification\n",
    "df['severity'] = df.apply(classify_severity, axis=1)\n",
    "\n",
    "# Count each severity type\n",
    "severity_counts = df['severity'].value_counts()\n",
    "print(severity_counts)\n",
    "\n",
    "# Plot severity distribution\n",
    "import matplotlib.pyplot as plt\n",
    "severity_counts.plot(kind='bar', color=['red', 'orange', 'yellow', 'green'])\n",
    "plt.title(\"Accident Severity Distribution\")\n",
    "plt.xlabel(\"Severity Level\")\n",
    "plt.ylabel(\"Number of Accidents\")\n",
    "plt.show()\n"
   ]
  },
  {
   "cell_type": "code",
   "execution_count": null,
   "id": "4397e88f-2d54-415a-a3e4-96285ea68a30",
   "metadata": {},
   "outputs": [],
   "source": [
    "road_accidents = df.groupby(\"road_id\")[\"deaths\"].sum().reset_index()\n",
    "top_roads = road_accidents.sort_values(\"deaths\", ascending=False).head(10)\n",
    "print(top_roads)\n"
   ]
  },
  {
   "cell_type": "code",
   "execution_count": null,
   "id": "ee0e2afe-604c-4764-ae4f-eb9ecd550e24",
   "metadata": {},
   "outputs": [],
   "source": [
    "df[\"inverse_data\"] = pd.to_datetime(df[\"inverse_data\"])  # Ensure datetime format\n",
    "df[\"day_of_week\"] = df[\"inverse_data\"].dt.day_name()  # Extract weekday\n",
    "\n",
    "# Count accidents per day\n",
    "accidents_per_day = df[\"day_of_week\"].value_counts()\n",
    "\n",
    "# Plot\n",
    "accidents_per_day.plot(kind=\"bar\", color=\"purple\", title=\"Accidents per Day of the Week\")\n",
    "plt.xlabel(\"Day of the Week\")\n",
    "plt.ylabel(\"Number of Accidents\")\n",
    "plt.show()\n"
   ]
  },
  {
   "cell_type": "code",
   "execution_count": null,
   "id": "dc6de42a-c275-40cf-862d-969c6abde5a0",
   "metadata": {},
   "outputs": [],
   "source": [
    "import seaborn as sns\n",
    "\n",
    "correlation_matrix = df[['deaths', 'slightly_injured', 'severely_injured', 'uninjured', 'vehicles_involved']].corr()\n",
    "\n",
    "# Heatmap\n",
    "plt.figure(figsize=(8, 5))\n",
    "sns.heatmap(correlation_matrix, annot=True, cmap=\"coolwarm\", fmt=\".2f\")\n",
    "plt.title(\"Correlation Between Accident Factors\")\n",
    "plt.show()\n"
   ]
  },
  {
   "cell_type": "code",
   "execution_count": null,
   "id": "b9e66951-d2e5-4656-bbde-ca32b593e456",
   "metadata": {},
   "outputs": [],
   "source": [
    "severity_injury_avg = df.groupby(\"severity\")[[\"slightly_injured\", \"severely_injured\", \"total_injured\"]].mean()\n",
    "print(severity_injury_avg)\n"
   ]
  },
  {
   "cell_type": "code",
   "execution_count": null,
   "id": "d5b8e420-ca14-44c3-9c71-9e2ae1ac52bd",
   "metadata": {},
   "outputs": [],
   "source": [
    "from statsmodels.tsa.arima.model import ARIMA\n",
    "import matplotlib.pyplot as plt\n",
    "\n",
    "# Fit ARIMA Model\n",
    "model = ARIMA(monthly_accidents, order=(2,1,2))\n",
    "model_fit = model.fit()\n",
    "\n",
    "# Forecast next 12 months\n",
    "forecast = model_fit.forecast(steps=12)\n",
    "forecast.index = pd.date_range(start=monthly_accidents.index[-1], periods=12, freq='M')\n",
    "\n",
    "# Plot actual vs forecast\n",
    "plt.figure(figsize=(10,5))\n",
    "plt.plot(monthly_accidents, label= \"Actual\")\n",
    "plt.plot(forecast, label=\"Forecast\", linestyle=\"dashed\", color=\"red\")\n",
    "plt.xlabel(\"Date\")\n",
    "plt.ylabel(\"Number of Accidents\")\n",
    "plt.title(\"Accident Forecast for Next 12 Months\")\n",
    "plt.legend()\n",
    "plt.show()\n"
   ]
  },
  {
   "cell_type": "code",
   "execution_count": null,
   "id": "c24ab922-4107-4864-88b7-0bd40ffeb170",
   "metadata": {},
   "outputs": [],
   "source": []
  }
 ],
 "metadata": {
  "kernelspec": {
   "display_name": "Python 3 (ipykernel)",
   "language": "python",
   "name": "python3"
  },
  "language_info": {
   "codemirror_mode": {
    "name": "ipython",
    "version": 3
   },
   "file_extension": ".py",
   "mimetype": "text/x-python",
   "name": "python",
   "nbconvert_exporter": "python",
   "pygments_lexer": "ipython3",
   "version": "3.11.7"
  }
 },
 "nbformat": 4,
 "nbformat_minor": 5
}
